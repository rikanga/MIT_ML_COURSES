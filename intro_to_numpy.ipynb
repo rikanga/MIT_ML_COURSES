{
 "cells": [
  {
   "cell_type": "code",
   "execution_count": 1,
   "id": "a6a06d63",
   "metadata": {},
   "outputs": [],
   "source": [
    "import numpy as np"
   ]
  },
  {
   "cell_type": "code",
   "execution_count": 2,
   "id": "8e73991b",
   "metadata": {},
   "outputs": [
    {
     "data": {
      "text/plain": [
       "array([[1., 1., 1., 1., 1.],\n",
       "       [1., 1., 1., 1., 1.],\n",
       "       [1., 1., 1., 1., 1.]])"
      ]
     },
     "execution_count": 2,
     "metadata": {},
     "output_type": "execute_result"
    }
   ],
   "source": [
    "# Ones\n",
    "np.ones([3, 5])"
   ]
  },
  {
   "cell_type": "code",
   "execution_count": 3,
   "id": "d8274f95",
   "metadata": {},
   "outputs": [
    {
     "data": {
      "text/plain": [
       "array([[0., 0.],\n",
       "       [0., 0.],\n",
       "       [0., 0.],\n",
       "       [0., 0.],\n",
       "       [0., 0.]])"
      ]
     },
     "execution_count": 3,
     "metadata": {},
     "output_type": "execute_result"
    }
   ],
   "source": [
    "# zeros array\n",
    "np.zeros([5, 2])"
   ]
  },
  {
   "cell_type": "code",
   "execution_count": 4,
   "id": "fbd3545d",
   "metadata": {},
   "outputs": [
    {
     "data": {
      "text/plain": [
       "array([0.38033047, 0.4693342 , 0.249395  ])"
      ]
     },
     "execution_count": 4,
     "metadata": {},
     "output_type": "execute_result"
    }
   ],
   "source": [
    "# randomization\n",
    "np.random.random([3,])"
   ]
  },
  {
   "cell_type": "code",
   "execution_count": 7,
   "id": "3ff14603",
   "metadata": {},
   "outputs": [
    {
     "data": {
      "text/plain": [
       "array([[0.1514925 , 0.77517227, 0.4619597 ],\n",
       "       [0.13008827, 0.33683975, 0.20126459],\n",
       "       [0.61919148, 0.35932269, 0.39302629],\n",
       "       [0.73022341, 0.06324257, 0.96337005],\n",
       "       [0.82313437, 0.73968089, 0.58643718]])"
      ]
     },
     "execution_count": 7,
     "metadata": {},
     "output_type": "execute_result"
    }
   ],
   "source": [
    "np.random.random([5, 3])"
   ]
  },
  {
   "cell_type": "code",
   "execution_count": 12,
   "id": "ce801eec",
   "metadata": {},
   "outputs": [
    {
     "data": {
      "text/plain": [
       "array([[-1.47691118,  1.17897095,  0.9539733 ],\n",
       "       [-0.74789156, -0.49722953, -0.77553666],\n",
       "       [-0.81300386, -1.52399728, -0.95835382]])"
      ]
     },
     "execution_count": 12,
     "metadata": {},
     "output_type": "execute_result"
    }
   ],
   "source": [
    "np.random.randn(3, 3)"
   ]
  },
  {
   "cell_type": "code",
   "execution_count": 13,
   "id": "0653b2af",
   "metadata": {},
   "outputs": [
    {
     "data": {
      "text/plain": [
       "array([[0.94912085, 0.73720985, 0.7031303 ],\n",
       "       [0.15409393, 0.02300346, 0.22849952],\n",
       "       [0.24286871, 0.72759149, 0.99458066],\n",
       "       [0.95159454, 0.92089818, 0.94530182]])"
      ]
     },
     "execution_count": 13,
     "metadata": {},
     "output_type": "execute_result"
    }
   ],
   "source": [
    "np.random.rand(4, 3)"
   ]
  },
  {
   "cell_type": "code",
   "execution_count": 16,
   "id": "37e604b0",
   "metadata": {},
   "outputs": [
    {
     "data": {
      "text/plain": [
       "array([[0.04616688],\n",
       "       [0.20579312],\n",
       "       [0.77564337],\n",
       "       [0.0576401 ]])"
      ]
     },
     "execution_count": 16,
     "metadata": {},
     "output_type": "execute_result"
    }
   ],
   "source": [
    "np.random.random([4, 1])"
   ]
  },
  {
   "cell_type": "markdown",
   "id": "ca5d75ec",
   "metadata": {},
   "source": [
    "### Matrix properties and Operations"
   ]
  },
  {
   "cell_type": "markdown",
   "id": "27362d81",
   "metadata": {},
   "source": [
    "**Dimension of array**"
   ]
  },
  {
   "cell_type": "code",
   "execution_count": 17,
   "id": "78c3387a",
   "metadata": {},
   "outputs": [],
   "source": [
    "x = np.array([3, 4])"
   ]
  },
  {
   "cell_type": "code",
   "execution_count": 18,
   "id": "8b985fa5",
   "metadata": {},
   "outputs": [
    {
     "data": {
      "text/plain": [
       "(2,)"
      ]
     },
     "execution_count": 18,
     "metadata": {},
     "output_type": "execute_result"
    }
   ],
   "source": [
    "x.shape"
   ]
  },
  {
   "cell_type": "code",
   "execution_count": 19,
   "id": "800c8fa3",
   "metadata": {},
   "outputs": [],
   "source": [
    "y = np.array([[3, 4, 1], [8, 3, 4]])"
   ]
  },
  {
   "cell_type": "code",
   "execution_count": 20,
   "id": "3af00315",
   "metadata": {},
   "outputs": [
    {
     "data": {
      "text/plain": [
       "array([[3, 4, 1],\n",
       "       [8, 3, 4]])"
      ]
     },
     "execution_count": 20,
     "metadata": {},
     "output_type": "execute_result"
    }
   ],
   "source": [
    "y"
   ]
  },
  {
   "cell_type": "code",
   "execution_count": 21,
   "id": "d0298758",
   "metadata": {},
   "outputs": [
    {
     "data": {
      "text/plain": [
       "(2, 3)"
      ]
     },
     "execution_count": 21,
     "metadata": {},
     "output_type": "execute_result"
    }
   ],
   "source": [
    "y.shape"
   ]
  },
  {
   "cell_type": "markdown",
   "id": "b29f9efb",
   "metadata": {},
   "source": [
    "**Transposition of matrix**"
   ]
  },
  {
   "cell_type": "code",
   "execution_count": 22,
   "id": "32514ba5",
   "metadata": {},
   "outputs": [
    {
     "data": {
      "text/plain": [
       "array([[3, 8],\n",
       "       [4, 3],\n",
       "       [1, 4]])"
      ]
     },
     "execution_count": 22,
     "metadata": {},
     "output_type": "execute_result"
    }
   ],
   "source": [
    "y.transpose()"
   ]
  },
  {
   "cell_type": "code",
   "execution_count": 23,
   "id": "012c49b9",
   "metadata": {},
   "outputs": [],
   "source": [
    "z = y.transpose()"
   ]
  },
  {
   "cell_type": "code",
   "execution_count": 24,
   "id": "25389201",
   "metadata": {},
   "outputs": [
    {
     "data": {
      "text/plain": [
       "(3, 2)"
      ]
     },
     "execution_count": 24,
     "metadata": {},
     "output_type": "execute_result"
    }
   ],
   "source": [
    "z.shape"
   ]
  },
  {
   "cell_type": "code",
   "execution_count": 25,
   "id": "3ba34cf3",
   "metadata": {},
   "outputs": [
    {
     "data": {
      "text/plain": [
       "array([[3, 8],\n",
       "       [4, 3],\n",
       "       [1, 4]])"
      ]
     },
     "execution_count": 25,
     "metadata": {},
     "output_type": "execute_result"
    }
   ],
   "source": [
    "z"
   ]
  },
  {
   "cell_type": "markdown",
   "id": "bfef314c",
   "metadata": {},
   "source": [
    "**Functions**"
   ]
  },
  {
   "cell_type": "code",
   "execution_count": 26,
   "id": "21c1eeb9",
   "metadata": {},
   "outputs": [],
   "source": [
    "y = np.array([\n",
    "    [3, 5, 1],\n",
    "    [1, 3, 9]\n",
    "])"
   ]
  },
  {
   "cell_type": "code",
   "execution_count": 27,
   "id": "81815ceb",
   "metadata": {},
   "outputs": [
    {
     "data": {
      "text/plain": [
       "array([[3, 5, 1],\n",
       "       [1, 3, 9]])"
      ]
     },
     "execution_count": 27,
     "metadata": {},
     "output_type": "execute_result"
    }
   ],
   "source": [
    "y"
   ]
  },
  {
   "cell_type": "code",
   "execution_count": 31,
   "id": "cdd16874",
   "metadata": {},
   "outputs": [],
   "source": [
    "z = y + 3"
   ]
  },
  {
   "cell_type": "code",
   "execution_count": 32,
   "id": "33dfaa11",
   "metadata": {},
   "outputs": [
    {
     "data": {
      "text/plain": [
       "array([[ 6,  8,  4],\n",
       "       [ 4,  6, 12]])"
      ]
     },
     "execution_count": 32,
     "metadata": {},
     "output_type": "execute_result"
    }
   ],
   "source": [
    "z"
   ]
  },
  {
   "cell_type": "code",
   "execution_count": 33,
   "id": "450cd563",
   "metadata": {},
   "outputs": [
    {
     "data": {
      "text/plain": [
       "array([[ 18,  40,   4],\n",
       "       [  4,  18, 108]])"
      ]
     },
     "execution_count": 33,
     "metadata": {},
     "output_type": "execute_result"
    }
   ],
   "source": [
    "y * z"
   ]
  },
  {
   "cell_type": "markdown",
   "id": "68763c9b",
   "metadata": {},
   "source": [
    "We can multiply matrix using **multiply** Function"
   ]
  },
  {
   "cell_type": "code",
   "execution_count": 34,
   "id": "fa4356a7",
   "metadata": {},
   "outputs": [
    {
     "data": {
      "text/plain": [
       "array([[ 18,  40,   4],\n",
       "       [  4,  18, 108]])"
      ]
     },
     "execution_count": 34,
     "metadata": {},
     "output_type": "execute_result"
    }
   ],
   "source": [
    "np.multiply(y, z)"
   ]
  },
  {
   "cell_type": "markdown",
   "id": "2ef05238",
   "metadata": {},
   "source": [
    "**Matrix vectoriel product**\n",
    "\n",
    "To compute the vectoriel matrix multiplication, we use **matmul** function"
   ]
  },
  {
   "cell_type": "code",
   "execution_count": 36,
   "id": "b0207147",
   "metadata": {},
   "outputs": [
    {
     "data": {
      "text/plain": [
       "array([3, 4])"
      ]
     },
     "execution_count": 36,
     "metadata": {},
     "output_type": "execute_result"
    }
   ],
   "source": [
    "x"
   ]
  },
  {
   "cell_type": "code",
   "execution_count": 37,
   "id": "bdb4936f",
   "metadata": {},
   "outputs": [
    {
     "data": {
      "text/plain": [
       "array([[3, 5, 1],\n",
       "       [1, 3, 9]])"
      ]
     },
     "execution_count": 37,
     "metadata": {},
     "output_type": "execute_result"
    }
   ],
   "source": [
    "y"
   ]
  },
  {
   "cell_type": "code",
   "execution_count": 38,
   "id": "daab8278",
   "metadata": {},
   "outputs": [
    {
     "data": {
      "text/plain": [
       "array([13, 27, 39])"
      ]
     },
     "execution_count": 38,
     "metadata": {},
     "output_type": "execute_result"
    }
   ],
   "source": [
    "np.matmul(x, y)"
   ]
  },
  {
   "cell_type": "markdown",
   "id": "5c2ed977",
   "metadata": {},
   "source": [
    "**Exponential**"
   ]
  },
  {
   "cell_type": "code",
   "execution_count": 39,
   "id": "16bb606b",
   "metadata": {},
   "outputs": [
    {
     "data": {
      "text/plain": [
       "array([20.08553692, 54.59815003])"
      ]
     },
     "execution_count": 39,
     "metadata": {},
     "output_type": "execute_result"
    }
   ],
   "source": [
    "np.exp(x)"
   ]
  },
  {
   "cell_type": "markdown",
   "id": "18edb6f8",
   "metadata": {},
   "source": [
    "**Cosine of matrix**"
   ]
  },
  {
   "cell_type": "code",
   "execution_count": 40,
   "id": "1fe95192",
   "metadata": {},
   "outputs": [
    {
     "data": {
      "text/plain": [
       "array([-0.9899925 , -0.65364362])"
      ]
     },
     "execution_count": 40,
     "metadata": {},
     "output_type": "execute_result"
    }
   ],
   "source": [
    "np.cos(x)"
   ]
  },
  {
   "cell_type": "markdown",
   "id": "3ec7018d",
   "metadata": {},
   "source": [
    "**Tangente of matrix**"
   ]
  },
  {
   "cell_type": "code",
   "execution_count": 42,
   "id": "ed5d235a",
   "metadata": {},
   "outputs": [
    {
     "data": {
      "text/plain": [
       "array([-0.14254654,  1.15782128])"
      ]
     },
     "execution_count": 42,
     "metadata": {},
     "output_type": "execute_result"
    }
   ],
   "source": [
    "np.tan(x)"
   ]
  },
  {
   "cell_type": "markdown",
   "id": "82cb2b69",
   "metadata": {},
   "source": [
    "**Hyperbolic tagente**"
   ]
  },
  {
   "cell_type": "code",
   "execution_count": 43,
   "id": "1a05c3e2",
   "metadata": {},
   "outputs": [
    {
     "data": {
      "text/plain": [
       "array([0.99505475, 0.9993293 ])"
      ]
     },
     "execution_count": 43,
     "metadata": {},
     "output_type": "execute_result"
    }
   ],
   "source": [
    "np.tanh(x)"
   ]
  },
  {
   "cell_type": "code",
   "execution_count": 44,
   "id": "5e290b98",
   "metadata": {},
   "outputs": [
    {
     "data": {
      "text/plain": [
       "array([[0.09991938, 0.32185213],\n",
       "       [0.16797103, 0.7736962 ],\n",
       "       [0.6334778 , 0.68631035]])"
      ]
     },
     "execution_count": 44,
     "metadata": {},
     "output_type": "execute_result"
    }
   ],
   "source": [
    "np.random.random([3, 2])"
   ]
  },
  {
   "cell_type": "code",
   "execution_count": 45,
   "id": "7fe526cf",
   "metadata": {},
   "outputs": [
    {
     "data": {
      "text/plain": [
       "array([6, 8])"
      ]
     },
     "execution_count": 45,
     "metadata": {},
     "output_type": "execute_result"
    }
   ],
   "source": [
    "x + x"
   ]
  },
  {
   "cell_type": "code",
   "execution_count": 48,
   "id": "74841357",
   "metadata": {},
   "outputs": [
    {
     "data": {
      "text/plain": [
       "7"
      ]
     },
     "execution_count": 48,
     "metadata": {},
     "output_type": "execute_result"
    }
   ],
   "source": [
    "np.sum([x])"
   ]
  },
  {
   "cell_type": "markdown",
   "id": "f031cf4f",
   "metadata": {},
   "source": [
    "#### MIN, MAX AND NORM"
   ]
  },
  {
   "cell_type": "code",
   "execution_count": 49,
   "id": "e47857c2",
   "metadata": {},
   "outputs": [],
   "source": [
    "x = np.array([23, 19, 1, 3, -2, 7, 9, 1])"
   ]
  },
  {
   "cell_type": "code",
   "execution_count": 50,
   "id": "b2bc85df",
   "metadata": {},
   "outputs": [
    {
     "data": {
      "text/plain": [
       "array([23, 19,  1,  3, -2,  7,  9,  1])"
      ]
     },
     "execution_count": 50,
     "metadata": {},
     "output_type": "execute_result"
    }
   ],
   "source": [
    "x"
   ]
  },
  {
   "cell_type": "markdown",
   "id": "05ae6eb7",
   "metadata": {},
   "source": [
    "**MIN**"
   ]
  },
  {
   "cell_type": "code",
   "execution_count": 52,
   "id": "15cf8339",
   "metadata": {},
   "outputs": [
    {
     "data": {
      "text/plain": [
       "-2"
      ]
     },
     "execution_count": 52,
     "metadata": {},
     "output_type": "execute_result"
    }
   ],
   "source": [
    "np.min(x)   # Minimum of array"
   ]
  },
  {
   "cell_type": "markdown",
   "id": "07126367",
   "metadata": {},
   "source": [
    "**MAX**"
   ]
  },
  {
   "cell_type": "code",
   "execution_count": 53,
   "id": "0b628d6e",
   "metadata": {},
   "outputs": [
    {
     "data": {
      "text/plain": [
       "23"
      ]
     },
     "execution_count": 53,
     "metadata": {},
     "output_type": "execute_result"
    }
   ],
   "source": [
    "np.max(x)    # Maximum of array"
   ]
  },
  {
   "cell_type": "markdown",
   "id": "9cc154e3",
   "metadata": {},
   "source": [
    "**NORM**"
   ]
  },
  {
   "cell_type": "code",
   "execution_count": 54,
   "id": "473f6431",
   "metadata": {},
   "outputs": [
    {
     "data": {
      "text/plain": [
       "32.17141588429082"
      ]
     },
     "execution_count": 54,
     "metadata": {},
     "output_type": "execute_result"
    }
   ],
   "source": [
    "np.linalg.norm(x)   # Norm of matrix x --> np.sqrt((x1 ** 2 + x2 ** 2 + .... + xn ** 2))"
   ]
  },
  {
   "cell_type": "markdown",
   "id": "ab6db1ea",
   "metadata": {},
   "source": [
    "**EXERCICE**\n",
    "**NEURAL NETWORK FUNCTION**\n",
    "\n",
    " Here, we will write a function neural_network, which will apply a neural network operation with 2 inputs and 1 output and a given weight matrix.\n",
    "\n",
    "Available Functions: You have access to the NumPy python library as np\n",
    "\n",
    "Your function should take two arguments: inputs and weights, two NumPy arrays of shape and should return a NumPy array of shape , the output of the neural network. Do not forget the activation. "
   ]
  },
  {
   "cell_type": "code",
   "execution_count": 57,
   "id": "fb48a62e",
   "metadata": {},
   "outputs": [],
   "source": [
    "x = np.random.random([2, 1])"
   ]
  },
  {
   "cell_type": "code",
   "execution_count": 58,
   "id": "6d84afc3",
   "metadata": {},
   "outputs": [
    {
     "data": {
      "text/plain": [
       "array([[0.8012246 ],\n",
       "       [0.21337056]])"
      ]
     },
     "execution_count": 58,
     "metadata": {},
     "output_type": "execute_result"
    }
   ],
   "source": [
    "x"
   ]
  },
  {
   "cell_type": "code",
   "execution_count": 59,
   "id": "89a6f598",
   "metadata": {},
   "outputs": [
    {
     "data": {
      "text/plain": [
       "(2, 1)"
      ]
     },
     "execution_count": 59,
     "metadata": {},
     "output_type": "execute_result"
    }
   ],
   "source": [
    "x.shape"
   ]
  },
  {
   "cell_type": "code",
   "execution_count": 61,
   "id": "0a8af242",
   "metadata": {},
   "outputs": [],
   "source": [
    "z = np.matmul(x, x.transpose())"
   ]
  },
  {
   "cell_type": "code",
   "execution_count": 62,
   "id": "03a30080",
   "metadata": {},
   "outputs": [
    {
     "data": {
      "text/plain": [
       "array([[0.64196086, 0.17095774],\n",
       "       [0.17095774, 0.045527  ]])"
      ]
     },
     "execution_count": 62,
     "metadata": {},
     "output_type": "execute_result"
    }
   ],
   "source": [
    "z"
   ]
  },
  {
   "cell_type": "code",
   "execution_count": 63,
   "id": "6c341077",
   "metadata": {},
   "outputs": [
    {
     "data": {
      "text/plain": [
       "(2, 2)"
      ]
     },
     "execution_count": 63,
     "metadata": {},
     "output_type": "execute_result"
    }
   ],
   "source": [
    "z.shape"
   ]
  },
  {
   "cell_type": "code",
   "execution_count": 66,
   "id": "61e652fd",
   "metadata": {},
   "outputs": [],
   "source": [
    "y = x * x"
   ]
  },
  {
   "cell_type": "code",
   "execution_count": 67,
   "id": "2eda1c68",
   "metadata": {},
   "outputs": [
    {
     "data": {
      "text/plain": [
       "array([[0.64196086],\n",
       "       [0.045527  ]])"
      ]
     },
     "execution_count": 67,
     "metadata": {},
     "output_type": "execute_result"
    }
   ],
   "source": [
    "y"
   ]
  },
  {
   "cell_type": "code",
   "execution_count": 69,
   "id": "10275cbe",
   "metadata": {},
   "outputs": [],
   "source": [
    "v = np.sum(y)"
   ]
  },
  {
   "cell_type": "code",
   "execution_count": 70,
   "id": "5e5e69e6",
   "metadata": {},
   "outputs": [
    {
     "data": {
      "text/plain": [
       "0.687487854015611"
      ]
     },
     "execution_count": 70,
     "metadata": {},
     "output_type": "execute_result"
    }
   ],
   "source": [
    "v"
   ]
  },
  {
   "cell_type": "code",
   "execution_count": 72,
   "id": "6f362e87",
   "metadata": {},
   "outputs": [],
   "source": [
    "z = np.tanh(v)"
   ]
  },
  {
   "cell_type": "code",
   "execution_count": 73,
   "id": "7fb6c0e9",
   "metadata": {},
   "outputs": [
    {
     "data": {
      "text/plain": [
       "0.5963657292961912"
      ]
     },
     "execution_count": 73,
     "metadata": {},
     "output_type": "execute_result"
    }
   ],
   "source": [
    "z"
   ]
  },
  {
   "cell_type": "code",
   "execution_count": 76,
   "id": "45646f12",
   "metadata": {},
   "outputs": [
    {
     "data": {
      "text/plain": [
       "(1,)"
      ]
     },
     "execution_count": 76,
     "metadata": {},
     "output_type": "execute_result"
    }
   ],
   "source": [
    "np.array([z]).shape"
   ]
  },
  {
   "cell_type": "code",
   "execution_count": 97,
   "id": "50b5889a",
   "metadata": {},
   "outputs": [],
   "source": [
    "def neural_network(inputs, weights):\n",
    "    \"\"\"\n",
    "     Takes an input vector and runs it through a 1-layer neural network\n",
    "     with a given weight matrix and returns the output.\n",
    "\n",
    "     Arg:\n",
    "       inputs - 2 x 1 NumPy array\n",
    "       weights - 2 x 1 NumPy array\n",
    "     Returns (in this order):\n",
    "       out - a 1 x 1 NumPy array, representing the output of the neural network\n",
    "    \"\"\"\n",
    "    try:\n",
    "        compute_entries = (inputs * weights)  # to multiply the inputs values with theirs coresponding weights\n",
    "        sum_entries = np.sum(compute_entries) # Addition of entries\n",
    "        out = np.array([[np.tanh(sum_entries)]])\n",
    "        return out\n",
    "    except:\n",
    "        raise NotImplementedError\n"
   ]
  },
  {
   "cell_type": "code",
   "execution_count": 98,
   "id": "236c194a",
   "metadata": {},
   "outputs": [],
   "source": [
    "inputs = np.array([[3], [1]])\n",
    "weights = np.array([[0.4], [0.7]])\n",
    "\n",
    "output = neural_network(inputs, weights)"
   ]
  },
  {
   "cell_type": "code",
   "execution_count": 99,
   "id": "4397933e",
   "metadata": {},
   "outputs": [
    {
     "data": {
      "text/plain": [
       "array([[0.95623746]])"
      ]
     },
     "execution_count": 99,
     "metadata": {},
     "output_type": "execute_result"
    }
   ],
   "source": [
    "output"
   ]
  },
  {
   "cell_type": "code",
   "execution_count": 100,
   "id": "6ac177dc",
   "metadata": {},
   "outputs": [
    {
     "data": {
      "text/plain": [
       "(1, 1)"
      ]
     },
     "execution_count": 100,
     "metadata": {},
     "output_type": "execute_result"
    }
   ],
   "source": [
    "output.shape"
   ]
  },
  {
   "cell_type": "code",
   "execution_count": 101,
   "id": "3ed5e8a1",
   "metadata": {},
   "outputs": [
    {
     "data": {
      "text/plain": [
       "(2, 1)"
      ]
     },
     "execution_count": 101,
     "metadata": {},
     "output_type": "execute_result"
    }
   ],
   "source": [
    "inputs.shape"
   ]
  },
  {
   "cell_type": "code",
   "execution_count": 102,
   "id": "d927b54f",
   "metadata": {},
   "outputs": [
    {
     "data": {
      "text/plain": [
       "(1, 1)"
      ]
     },
     "execution_count": 102,
     "metadata": {},
     "output_type": "execute_result"
    }
   ],
   "source": [
    "np.array([[1]]).shape"
   ]
  },
  {
   "cell_type": "code",
   "execution_count": 114,
   "id": "ea0090d9",
   "metadata": {},
   "outputs": [],
   "source": [
    "np.vectorize?"
   ]
  },
  {
   "cell_type": "code",
   "execution_count": 105,
   "id": "c5b4d38c",
   "metadata": {},
   "outputs": [],
   "source": [
    "def scalar_function(x, y):\n",
    "    \"\"\"\n",
    "    Returns the f(x,y) defined in the problem statement.\n",
    "    \"\"\"\n",
    "    try:\n",
    "        if x <= y:\n",
    "            return x * y\n",
    "        else:\n",
    "            return x / y\n",
    "    except:\n",
    "        raise NotImplementedError"
   ]
  },
  {
   "cell_type": "code",
   "execution_count": 115,
   "id": "4ed3b1d2",
   "metadata": {},
   "outputs": [],
   "source": [
    "def vector_function(x, y):\n",
    "    \"\"\"\n",
    "    Make sure vector_function can deal with vector input x,y \n",
    "    \"\"\"\n",
    "    try:\n",
    "        vfunc =  np.vectorize(scalar_function)\n",
    "        return vfunc(x, y)\n",
    "    except:\n",
    "        raise NotImplementedError\n",
    "\n"
   ]
  },
  {
   "cell_type": "code",
   "execution_count": 116,
   "id": "0a87bfb9",
   "metadata": {},
   "outputs": [],
   "source": [
    "a = vector_function(3, 5)"
   ]
  },
  {
   "cell_type": "code",
   "execution_count": 117,
   "id": "1b468424",
   "metadata": {},
   "outputs": [
    {
     "data": {
      "text/plain": [
       "array(15)"
      ]
     },
     "execution_count": 117,
     "metadata": {},
     "output_type": "execute_result"
    }
   ],
   "source": [
    "a"
   ]
  },
  {
   "cell_type": "code",
   "execution_count": null,
   "id": "6283ec2f",
   "metadata": {},
   "outputs": [],
   "source": []
  }
 ],
 "metadata": {
  "kernelspec": {
   "display_name": "Python 3 (ipykernel)",
   "language": "python",
   "name": "python3"
  },
  "language_info": {
   "codemirror_mode": {
    "name": "ipython",
    "version": 3
   },
   "file_extension": ".py",
   "mimetype": "text/x-python",
   "name": "python",
   "nbconvert_exporter": "python",
   "pygments_lexer": "ipython3",
   "version": "3.10.6"
  }
 },
 "nbformat": 4,
 "nbformat_minor": 5
}
